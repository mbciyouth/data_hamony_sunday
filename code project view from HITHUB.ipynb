{
 "cells": [
  {
   "cell_type": "markdown",
   "metadata": {},
   "source": [
    "# Fuel Quality Data Exploration"
   ]
  },
  {
   "cell_type": "markdown",
   "metadata": {},
   "source": [
    "Hi, again its Adedayo and i am very grateful to be part the the Hamoye intenship, we were given a data set and asked to explore every nook and cranny of it and i !!! This notebook is an oppurtunity for me to seek for advise and opinions from all my colleagues and the Hamoye instructors on my approach to this dataset,"
   ]
  },
  {
   "cell_type": "markdown",
   "metadata": {},
   "source": [
    "# I want to know if,"
   ]
  },
  {
   "cell_type": "markdown",
   "metadata": {},
   "source": [
    "the questions I asked were good ones?\n",
    "the analysis method i useds were adequate?\n",
    "you have a better analysis option?\n",
    "the observations were accurate?\n",
    "you have more observations?\n",
    "you agree with my insights and suggestions?\n",
    "you don't agree? Please tell me why."
   ]
  },
  {
   "cell_type": "markdown",
   "metadata": {},
   "source": [
    "I also want everyone to pick up something new from this notebook"
   ]
  },
  {
   "cell_type": "markdown",
   "metadata": {},
   "source": [
    "# Data Description"
   ]
  },
  {
   "cell_type": "markdown",
   "metadata": {},
   "source": [
    "The data set is the fuel Quality Data from the Federal Energy Regulatory Comission"
   ]
  },
  {
   "cell_type": "markdown",
   "metadata": {},
   "source": [
    "what is our goal?\n",
    "we were not exactly given an end goal like predicting or classifying something so i am just asking the data set anything i can think of..."
   ]
  },
  {
   "cell_type": "markdown",
   "metadata": {},
   "source": [
    "# Importing important packages loading the data"
   ]
  },
  {
   "cell_type": "code",
   "execution_count": null,
   "metadata": {},
   "outputs": [],
   "source": [
    "import numpy as np # linear algebra\n",
    "import pandas as pd # data processing,\n",
    "import matplotlib.pyplot as plt #plotting\n",
    "import matplotlib.gridspec as gridspec#plotting\n",
    "import seaborn as sns #plotting\n",
    "sns.set(style=\"whitegrid\") # to give the graphs a particular design\n",
    "plt.rc('figure', figsize=(20, 10)) #to make all my graphs the same size"
   ]
  },
  {
   "cell_type": "code",
   "execution_count": null,
   "metadata": {},
   "outputs": [],
   "source": [
    "#url='https://github.com/WalePhenomenon/climate_change/blob/master/fuel_ferc1.csv?raw=true'\n",
    "#fuel_data = pd.read_csv(url, error_bad_lines=False)\n",
    "#fuel_data.describe(include='all')\n",
    "\n",
    "# I commented it out because i alread have the dataset saved locally in my case\n",
    "fuel_data = pd.read_csv('.....input/fuel_ferc1.csv')#put your own file path here\n",
    "fuel_data.describe(include='all')"
   ]
  },
  {
   "cell_type": "code",
   "execution_count": null,
   "metadata": {},
   "outputs": [],
   "source": [
    "fuel_data.head()"
   ]
  },
  {
   "cell_type": "markdown",
   "metadata": {},
   "source": [
    "from the summary statistics table we can infer that report year,plant_name_ferc1,fuel_type_code_pudl,fuel_unit are categorical data and will be most suited to frequency exploration with the other columns.\n",
    "\n",
    "The recordid is just a serial number and is unimportant\n",
    "\n",
    "utility id appears to be numerical grouping of the plant, the numbers used are cut from the recordId,\n",
    "\n",
    "their over 2315 unique plants in the dataset, after a bit of googling I discovered the powerplants in a group are either located in the same US state or in states in close proximity to each other\n",
    "\n",
    "for example the two power plants in with utility id 1 are in indiana and most of the power plants in group 2 are in Alabama and neighbouring states as well as other groups (check them I cant claim to be very exhaustive in my search)\n",
    "\n",
    "So i think it is safe to say the utility Id can be used as a location grouping"
   ]
  },
  {
   "cell_type": "code",
   "execution_count": null,
   "metadata": {},
   "outputs": [],
   "source": [
    "fuel_data.info()#data type info"
   ]
  },
  {
   "cell_type": "code",
   "execution_count": null,
   "metadata": {},
   "outputs": [],
   "source": [
    "fuel_data.isnull().sum() #checking for missing values \n",
    "# i did not this value much as a factor in my visualiztion so suggestions are welcome"
   ]
  },
  {
   "cell_type": "code",
   "execution_count": null,
   "metadata": {},
   "outputs": [],
   "source": [
    "fuel_data.groupby('fuel_unit')['fuel_unit'].count()\n",
    "#count the number of rows that have a specific value using the groupby function\n",
    "# from this we can look at the most common fuel_unit"
   ]
  },
  {
   "cell_type": "code",
   "execution_count": null,
   "metadata": {},
   "outputs": [],
   "source": [
    "fuel_data.groupby('fuel_type_code_pudl')['fuel_type_code_pudl'].count()\n",
    "#counts the roals that have a particular fuel_type"
   ]
  },
  {
   "cell_type": "code",
   "execution_count": null,
   "metadata": {},
   "outputs": [],
   "source": [
    "fuel_data.groupby('fuel_type_code_pudl')['fuel_unit'].value_counts()\n",
    "#this is slightly different, I grouped the rows by fuel type but gave another break down of units associated with\n",
    "# the fuel type"
   ]
  },
  {
   "cell_type": "markdown",
   "metadata": {},
   "source": [
    "from the above we can infer that the mostcommon unit of measurement in general is mcf but; for oil is bbl,coal (ton), gas(mcf), nuclear(gramsU) with far less prevalent other units\n",
    "\n",
    "the key issue is waste and other which seem to be ,measured by various unit as they are not specific.\n",
    "\n",
    "Waste is most often measured by refered to as ton and other is also ton but with very high bbl rates"
   ]
  },
  {
   "cell_type": "code",
   "execution_count": null,
   "metadata": {},
   "outputs": [],
   "source": [
    "fuel_data.loc[fuel_data.isnull().any(axis=1)].head(5)\n",
    "#this returns a list of rows that have missing values\n",
    "# df.loc[] is very useful when you want to view a snapshot of dataframe that fills a specified condition\n",
    "# in this case the condition it is any missing values"
   ]
  },
  {
   "cell_type": "code",
   "execution_count": null,
   "metadata": {},
   "outputs": [],
   "source": [
    "#rather than filling the missing data with fillna with the most common unit mcf using\n",
    "#fuel_data[['fuel_unit']] = fuel_data[['fuel_unit']].fillna(value='mcf') \n",
    "\n",
    "# i decided to do something a bit more complex by mactching the missing the most commonly used unit based on their fuel type\n",
    "fuel_data['fuel_unit']=fuel_data.groupby('fuel_type_code_pudl').fuel_unit.transform(lambda x:x.fillna(x.mode()[0]))\n",
    "\n",
    "#check if missing values in fueldata have been filled\n",
    "fuel_data[\"fuel_unit\"].isnull().sum()"
   ]
  },
  {
   "cell_type": "code",
   "execution_count": null,
   "metadata": {},
   "outputs": [],
   "source": [
    "fuel_data.iloc[[66,152,277,626,627]] #data.iloc is very useful for viewing specific indexes\n",
    "#i used it to view the row i have filled"
   ]
  },
  {
   "cell_type": "markdown",
   "metadata": {},
   "source": [
    "this method was succesful\n",
    "\n",
    "this was a fun but COMPLETELY UNNECESARY procedure because i ended up focusing on the fuel type rather than the units used.\n",
    "\n",
    "Although it was a bit useless and we would have been just fine in with just doing mcf even though this table is more accurate.\n",
    "\n",
    "it is great practice for tables are highly dependent on their categorical data"
   ]
  },
  {
   "cell_type": "markdown",
   "metadata": {},
   "source": [
    "# Data Viaualization¶"
   ]
  },
  {
   "cell_type": "markdown",
   "metadata": {},
   "source": [
    "I will take this in three segements:"
   ]
  },
  {
   "cell_type": "markdown",
   "metadata": {},
   "source": [
    "how do the features relate with each other: let check their correlation\n",
    "categorical data, we look at categorical data and their relation shio to the numerical data\n",
    "Quantitative/numerical data: look at the relationship to each other\n",
    "New features: Creating new features that i feel will give better insight due to the interaction effect"
   ]
  },
  {
   "cell_type": "markdown",
   "metadata": {},
   "source": [
    "How do the features relate with each other"
   ]
  },
  {
   "cell_type": "code",
   "execution_count": null,
   "metadata": {},
   "outputs": [],
   "source": [
    "sns.heatmap(fuel_data.corr(), annot=True)"
   ]
  },
  {
   "cell_type": "code",
   "execution_count": null,
   "metadata": {},
   "outputs": [],
   "source": [
    "#Select a sample of the dataset\n",
    "sample_df = fuel_data.sample(n=500, random_state=4)\n",
    "sns.heatmap(sample_df.corr(), annot=True)"
   ]
  },
  {
   "cell_type": "markdown",
   "metadata": {},
   "source": [
    "much better this gives us a direction to focus on when plotting other graphs"
   ]
  },
  {
   "cell_type": "markdown",
   "metadata": {},
   "source": [
    "# Categorical data"
   ]
  },
  {
   "cell_type": "markdown",
   "metadata": {},
   "source": [
    "as i earlier stated i am going to be doing frequency plots (barplot, histogram and distribution plots) for them in comparison to other tables so lets ask some questions? the categorical features are the plant name, the year, theutility id appears to be categorical,the fuel type, the measurement unit, the plants are too many but they can be grouped by fuel type, how the fuel is measured is inconsequential to the analysis. the focus will be on fuel type and year in question"
   ]
  },
  {
   "cell_type": "markdown",
   "metadata": {},
   "source": [
    "How popular is a fuel type?: we already know gas is the most popular but by how much and how popular are the others\n",
    "\n",
    "How cost effective is each fuel type?:\n",
    "\n",
    "How has the price of each fuel type changed over the years?:\n",
    "**Are some fuels becoming more popular over time?"
   ]
  },
  {
   "cell_type": "markdown",
   "metadata": {},
   "source": [
    "# How popular is a fuel type?"
   ]
  },
  {
   "cell_type": "code",
   "execution_count": null,
   "metadata": {},
   "outputs": [],
   "source": [
    "col={\"gas\":\"cyan\",\"coal\":\"black\",\"oil\":\"red\",\"nuclear\":\"springgreen\",\"waste\":\"saddlebrown\",\"other\":'slategray'}\n",
    "#i was having issues with the color denoting each fuel change every time i used it as a hue,\n",
    "#so i hard coded the colors in a dictionary so they remain constant"
   ]
  },
  {
   "cell_type": "code",
   "execution_count": null,
   "metadata": {},
   "outputs": [],
   "source": [
    "sns.catplot(y='fuel_type_code_pudl',\n",
    "            kind=\"count\",data=fuel_data,palette=col,order=fuel_data['fuel_type_code_pudl'].value_counts().index)"
   ]
  },
  {
   "cell_type": "markdown",
   "metadata": {},
   "source": [
    "observations: the most commonly used fuel source is gas,coal,oil\n",
    "\n",
    "(i have a quetion i feel like a more accurate way would be to count when grouped by plantname but this fels adequate enough what are your thoughts?)"
   ]
  },
  {
   "cell_type": "markdown",
   "metadata": {},
   "source": [
    "# what is the cheapest fuel source"
   ]
  },
  {
   "cell_type": "code",
   "execution_count": null,
   "metadata": {},
   "outputs": [],
   "source": [
    "sns.catplot(x='fuel_type_code_pudl', y='fuel_cost_per_mmbtu',palette=col, data=fuel_data)"
   ]
  },
  {
   "cell_type": "markdown",
   "metadata": {},
   "source": [
    "observations: this graph is not adequate at all we came across a barrier that happens many times in this note the number of outliers and the sheer size of the dataset i chose to reduce the price limits as sampled data might include massive outliers"
   ]
  },
  {
   "cell_type": "code",
   "execution_count": null,
   "metadata": {},
   "outputs": [],
   "source": [
    "g= sns.catplot(x='fuel_type_code_pudl', y='fuel_cost_per_mmbtu',palette=col,data=fuel_data)\n",
    "g.set(ylim=(0,100))"
   ]
  },
  {
   "cell_type": "markdown",
   "metadata": {},
   "source": [
    "observations: although the prices come in a range of values,coal is consisdently low with few outliers, while the others come in a wider range of values with higher figgures.... a swarmplot would have have helped to view the distribution but the dataset would be too large\n",
    "\n",
    "what are your thoughts? i did not want to sample and limit the dataset all at once because the dataset span years there could have been price increases"
   ]
  },
  {
   "cell_type": "markdown",
   "metadata": {},
   "source": [
    "# How did fuel prices change over the years"
   ]
  },
  {
   "cell_type": "markdown",
   "metadata": {},
   "source": [
    "this section takes a look at the price range of fuel accross different power plants over 20 years to deal with the outliers the graphs are in a logarithmic scale"
   ]
  },
  {
   "cell_type": "code",
   "execution_count": null,
   "metadata": {},
   "outputs": [],
   "source": [
    "g=sns.lineplot(x='report_year', y='fuel_cost_per_mmbtu',hue='fuel_type_code_pudl',palette=col,data=fuel_data)\n",
    "g.set_yscale(\"log\")\n",
    "#unlike other categorical plots, hue helps to give a more coherent line plot as the data is plotted in different streams"
   ]
  },
  {
   "cell_type": "markdown",
   "metadata": {},
   "source": [
    "Observations\n",
    "\n",
    "The cost of coal has stayed realtively stable over the 20 years\n",
    "The cost of gas has stayed realtively stable over the 20 years with dips and peaks\n",
    "The cost of oil has stayed has been on a rise over 20 years\n",
    "The cost of nuclear varies wildly with sharp peaks and deep dips.\n",
    "The cost of other varies wildly partly because it is a wide range of materials and because it is not present in every year\n",
    "The price of waste rose rapidly for over a decade but it is now on a sharp decline"
   ]
  },
  {
   "cell_type": "markdown",
   "metadata": {},
   "source": [
    "# Are some fuels becomming more popular over time?"
   ]
  },
  {
   "cell_type": "markdown",
   "metadata": {},
   "source": [
    "how do I measure this by creating a lineplot of report year to energy output with fuel quantity burned,although there will be differnce in quantity based on plants, the hue wiil show help show a sense of total?(correct me if I am wrong)"
   ]
  },
  {
   "cell_type": "code",
   "execution_count": null,
   "metadata": {},
   "outputs": [],
   "source": [
    "g=sns.lineplot(x='report_year', y='fuel_qty_burned',hue='fuel_type_code_pudl',palette=col,data=fuel_data)\n",
    "g.set_yscale(\"log\")"
   ]
  },
  {
   "cell_type": "markdown",
   "metadata": {},
   "source": [
    "# Observations"
   ]
  },
  {
   "cell_type": "markdown",
   "metadata": {},
   "source": [
    "The quantity of coal burned has stayed realtively stable over the 20 years but it is on a slight decline\n",
    "The quantity of gas burned has stayed realtively stable over the 20 years but is on a slight rise\n",
    "The quantity of oil burned has drastically reduced\n",
    "The quantity of nuclear burned is on a rise\n",
    "The quantity of other burned is on a rise\n",
    "The quantity of waste burned is on a rise"
   ]
  },
  {
   "cell_type": "code",
   "execution_count": null,
   "metadata": {},
   "outputs": [],
   "source": [
    "#lets look at the data set closer to see any popularity spikes we may have missed\n",
    "fuel_df1 = fuel_data.iloc[0:19000].reset_index(drop=True)\n",
    "fuel_df2 = fuel_data.iloc[19000:].reset_index(drop=True)\n",
    "#spliting dataframes"
   ]
  },
  {
   "cell_type": "code",
   "execution_count": null,
   "metadata": {},
   "outputs": [],
   "source": [
    "g=sns.lineplot(x='report_year', y='fuel_qty_burned',hue='fuel_type_code_pudl',palette=col,data=fuel_df1)\n",
    "g.set_yscale(\"log\")"
   ]
  },
  {
   "cell_type": "markdown",
   "metadata": {},
   "source": [
    "# Observations Between 1994-2008"
   ]
  },
  {
   "cell_type": "markdown",
   "metadata": {},
   "source": [
    "The quantity of coal burned stayed realtively stable"
   ]
  },
  {
   "cell_type": "markdown",
   "metadata": {},
   "source": [
    "The quantity of gas burned has stayed realtively stable over the 20 years but is on a slight rise"
   ]
  },
  {
   "cell_type": "markdown",
   "metadata": {},
   "source": [
    "The quantity of oil burned has drastically reduced\n",
    "The quantity of nuclear burned saw a decline\n",
    "The quantity of other burned saw a decline after a spike in the beginning\n",
    "The quantity of waste burned saw a decline after aspikein the beginning"
   ]
  },
  {
   "cell_type": "code",
   "execution_count": null,
   "metadata": {},
   "outputs": [],
   "source": [
    "g=sns.lineplot(x='report_year', y='fuel_qty_burned',hue='fuel_type_code_pudl',palette=col,data=fuel_df2)\n",
    "g.set_yscale(\"log\")"
   ]
  },
  {
   "cell_type": "markdown",
   "metadata": {},
   "source": [
    "in recent times quantities burned have stayed reakatively stable with small dips and peaks with the notable exception of waste burning"
   ]
  },
  {
   "cell_type": "markdown",
   "metadata": {},
   "source": [
    "# Utility Id"
   ]
  },
  {
   "cell_type": "markdown",
   "metadata": {},
   "source": [
    "how are fuel types utilised in each location"
   ]
  },
  {
   "cell_type": "code",
   "execution_count": null,
   "metadata": {},
   "outputs": [],
   "source": [
    "sns.boxplot(x=\"fuel_type_code_pudl\", y=\"utility_id_ferc1\",palette=col, data=fuel_data)"
   ]
  },
  {
   "cell_type": "markdown",
   "metadata": {},
   "source": [
    "# efficiency in each zone"
   ]
  },
  {
   "cell_type": "code",
   "execution_count": null,
   "metadata": {},
   "outputs": [],
   "source": [
    "d=sns.pairplot(x_vars=['fuel_cost_per_mmbtu','fuel_cost_per_unit_burned'\n",
    "                        ,'fuel_cost_per_unit_delivered'], y_vars='utility_id_ferc1',hue='fuel_type_code_pudl'\n",
    "               ,palette=col,data=fuel_data\n",
    "                ,height=4,aspect=1)\n",
    "d.axes[0,0].set(xlim=(0,100))\n",
    "d.axes[0,1].set(xlim=(0,1000))\n",
    "d.axes[0,2].set(xlim=(0,1000))\n",
    "#b.set_yscale(\"log\")\n",
    "#b.set_xscale(\"log\")"
   ]
  },
  {
   "cell_type": "markdown",
   "metadata": {},
   "source": [
    "most of the power plants are located i zone 1-300,oil and nuclear power plants are more expensive per mmbtu, gas is very expensive do burn and deliver (with high operational costs) it makes up for this by being cheep per energy produced, nulear costs varry widly, coal powervery low running and mmbtu cost but has moderate delivery costs,"
   ]
  },
  {
   "cell_type": "markdown",
   "metadata": {},
   "source": [
    "# Numerical data"
   ]
  },
  {
   "cell_type": "markdown",
   "metadata": {},
   "source": [
    "numerical data in this data set includes:"
   ]
  },
  {
   "cell_type": "markdown",
   "metadata": {},
   "source": [
    "fuel_qty_burned/\n",
    "fuel_mmbtu_per_unit/\n",
    "fuel_cost_per_unit_burned/\n",
    "fuel_cost_per_unit_delivered/\n",
    "fuel_cost_per_mmbtu/"
   ]
  },
  {
   "cell_type": "markdown",
   "metadata": {},
   "source": [
    "iwill be plotting scatter plots of each numerical variable to glean relation ships"
   ]
  },
  {
   "cell_type": "code",
   "execution_count": null,
   "metadata": {},
   "outputs": [],
   "source": [
    "#to get all the scatter plots done at once\n",
    "a= sns.pairplot(fuel_data, hue='fuel_type_code_pudl',x_vars=['fuel_qty_burned','fuel_mmbtu_per_unit','fuel_cost_per_unit_burned'\n",
    "                               ,'fuel_cost_per_unit_delivered'\n",
    "                               ,'fuel_cost_per_mmbtu'], y_vars=['fuel_qty_burned','fuel_mmbtu_per_unit','fuel_cost_per_unit_burned'\n",
    "                               ,'fuel_cost_per_unit_delivered'\n",
    "                               ,'fuel_cost_per_mmbtu'],palette=col,height=4,aspect=0.7)"
   ]
  },
  {
   "cell_type": "code",
   "execution_count": null,
   "metadata": {},
   "outputs": [],
   "source": [
    "#b=sns.regplot(x='fuel_cost_per_unit_burned', y='fuel_cost_per_unit_delivered',data=fuel_data)\n",
    "#b.set_yscale(\"log\")\n",
    "#b.set_xscale(\"log\")\n",
    "#log scale omits several relationships so i did not use it"
   ]
  },
  {
   "cell_type": "markdown",
   "metadata": {},
   "source": [
    "this data set is prone to extreme outliers that reuin all relation ships i have to option to either remove all high values or remove the waste and other, columns as i did above, i either use a sample or limit the dataset axes in order to see relations ships for smaller values"
   ]
  },
  {
   "cell_type": "code",
   "execution_count": null,
   "metadata": {},
   "outputs": [],
   "source": [
    "#to get all the scatter plots done at once\n",
    "a= sns.pairplot(sample_df, hue='fuel_type_code_pudl',x_vars=['fuel_qty_burned','fuel_mmbtu_per_unit','fuel_cost_per_unit_burned'\n",
    "                               ,'fuel_cost_per_unit_delivered'\n",
    "                               ,'fuel_cost_per_mmbtu'], y_vars=['fuel_qty_burned','fuel_mmbtu_per_unit','fuel_cost_per_unit_burned'\n",
    "                               ,'fuel_cost_per_unit_delivered'\n",
    "                               ,'fuel_cost_per_mmbtu'],palette=col,height=4,aspect=0.7)"
   ]
  },
  {
   "cell_type": "markdown",
   "metadata": {},
   "source": [
    "# Observations"
   ]
  },
  {
   "cell_type": "markdown",
   "metadata": {},
   "source": [
    "fuel quantity distribution: the massive spikes are caused by the other distribution most of the data is withinthe same range\n",
    "br()\n",
    "fuel qty burned vs fuel_cost_per_mmbtu: the expected case the lower the cost the more fuel burned ,the oil quantity oil remaine sort of constant as the price went up\n",
    "all vs fuel_mmbtu_per unit: thefuel_mmbtu_per unit for each fuel type thus the form clusters in plots containing fuel mmbtu per unit\n",
    "fuel_cost_per_unit delivered vs all: the cost to deliver fuel is relatively constant so they form clusters\n",
    "fuel cost per unit burned vs fuel_cost_per_mmbtu: fuel cost per unit burned seems to share a linear relationship with fuel_cost_per_mmbtu especially true in the case of oil and to a lesser extent coal and the others, gas however seems to be at a constant Fuel_cost_per_unit burned or sometimes exhibiting an inverse relationship"
   ]
  },
  {
   "cell_type": "markdown",
   "metadata": {},
   "source": [
    "i think this is all if there are more please send feedback"
   ]
  },
  {
   "cell_type": "code",
   "execution_count": null,
   "metadata": {},
   "outputs": [],
   "source": [
    "#to get all the scatter plots done at once\n",
    "#a= sns.pairplot(fuel_data, hue='fuel_type_code_pudl',x_vars=['fuel_qty_burned','fuel_mmbtu_per_unit','fuel_cost_per_unit_burned'\n",
    "                               #,'fuel_cost_per_unit_delivered'\n",
    "                               #,'fuel_cost_per_mmbtu'],\n",
    "        #y_vars=['fuel_qty_burned','fuel_mmbtu_per_unit','fuel_cost_per_unit_burned'\n",
    "                               #,'fuel_cost_per_unit_delivered'\n",
    "                               #,'fuel_cost_per_mmbtu'],height=7,aspect=0.9)\n",
    "\n",
    "\n",
    "#a.set(ylim=(0,5000))\n",
    "#a.set(xlim=(0,5000))\n",
    "#I did not end up considering it but i highly recommend running it so you can zoom in on the relationships mentione above\n",
    "#and better yet  set indicidual axis limists"
   ]
  },
  {
   "cell_type": "code",
   "execution_count": null,
   "metadata": {},
   "outputs": [],
   "source": [
    "sns.distplot(fuel_data[\"fuel_qty_burned\"],hist=False)\n",
    "#sns.distplot(fuel_data[\"fuel_mmbtu_per_unit\"])\n",
    "#sns.distplot(fuel_data[\"fuel_cost_per_unit_burned\"])\n",
    "#f= sns.distplot(fuel_data[\"fuel_cost_per_unit_delivered\"])\n",
    "#f.set(xlim=(0,5000))\n",
    "\n",
    "#this distribution plot looks very weired because a huge bulk of the \n",
    "#this is the same for all the data but it give a good idea where to limit the data \n",
    "# my idea is that we need to split the data frame by fuel type to see a proper distribution \n",
    "#there is a rough version in the pairplot so i wont bother"
   ]
  },
  {
   "cell_type": "markdown",
   "metadata": {},
   "source": [
    "# New Features"
   ]
  },
  {
   "cell_type": "markdown",
   "metadata": {},
   "source": [
    "how much money does each plant actually spend spend oneach stage burning and mmbtu there some thing that are just not explaine withthe available like the slight difference between delivery cost and fuel cost and cost permmbtu i theorise there is a difference with operations costs also operation costs are different from energy cost thus\n",
    "\n",
    "the power plant groups are produce large quantities of energy which utility groups are producing large amounts of energy,so we need to find the actual ennergy out put of each plant"
   ]
  },
  {
   "cell_type": "code",
   "execution_count": null,
   "metadata": {},
   "outputs": [],
   "source": [
    "fuel_data[\"total_burning_cost\"]= fuel_data[\"fuel_cost_per_unit_burned\"]*fuel_data[\"fuel_qty_burned\"]\n",
    "#assuming same quantity burned is the one delivered\n",
    "fuel_data[\"total_delivery_cost\"]= fuel_data[\"fuel_cost_per_unit_delivered\"]*fuel_data[\"fuel_qty_burned\"]\n",
    "\n",
    "#how much energy are the plants producing\n",
    "fuel_data[\"total_energy_produced\"] = fuel_data[\"fuel_mmbtu_per_unit\"]*fuel_data[\"fuel_qty_burned\"]\n",
    "#how much the total energy cost\n",
    "fuel_data[\"total_energy_cost_unit\"]=fuel_data[\"fuel_mmbtu_per_unit\"]*fuel_data[\"fuel_cost_per_unit_burned\"]\n",
    "fuel_data[\"total_operation_cost_per_unit\"]=fuel_data[\"fuel_cost_per_unit_burned\"]+fuel_data[\"fuel_cost_per_unit_delivered\"]\n",
    "fuel_data.head()"
   ]
  },
  {
   "cell_type": "code",
   "execution_count": null,
   "metadata": {},
   "outputs": [],
   "source": [
    "d=sns.pairplot(x_vars=[\"total_energy_produced\",\"total_energy_cost_unit\",\"total_operation_cost_per_unit\"]\n",
    "               , y_vars='utility_id_ferc1',hue='fuel_type_code_pudl',data=fuel_data\n",
    "                ,palette=col,height=4,aspect=1)\n",
    "\n",
    "d.axes[0,0].set(xlim=(0,5000000))\n",
    "d.axes[0,1].set(xlim=(0,20000))\n",
    "d.axes[0,2].set(xlim=(0,1000))"
   ]
  },
  {
   "cell_type": "markdown",
   "metadata": {},
   "source": [
    "# Observations"
   ]
  },
  {
   "cell_type": "code",
   "execution_count": null,
   "metadata": {},
   "outputs": [],
   "source": [
    "d=sns.pairplot(x_vars=[\"total_energy_produced\",\"total_energy_cost_unit\",\"total_operation_cost_per_unit\"]\n",
    "               , y_vars='fuel_qty_burned',hue='fuel_type_code_pudl',palette=col,data=fuel_data\n",
    "                ,height=4,aspect=1)\n",
    "d.axes[0,0].set(ylim=(0,100000))\n",
    "d.axes[0,0].set(xlim=(0,100000))\n",
    "d.axes[0,1].set(xlim=(0,20000))\n",
    "d.axes[0,2].set(xlim=(0,1000))"
   ]
  },
  {
   "cell_type": "markdown",
   "metadata": {},
   "source": [
    "the quantity burned has an obvious linear relationshiowith the energy produced, with the exception of waste and other, the energy cost is relativelyconstant forfuel types so they form clusters with a few outliers, same with operation costs"
   ]
  },
  {
   "cell_type": "markdown",
   "metadata": {},
   "source": [
    "# Conclusion"
   ]
  },
  {
   "cell_type": "markdown",
   "metadata": {},
   "source": [
    "if you have made this far thank you very much, i would like to get feedback from you, do you think I am on the right track?\n",
    "\n",
    "also please check out my github, star this repository, comment on my other projects and follow me if you like\n",
    "\n",
    "Constructive Criticism , Suggestions and General comments are always welcome"
   ]
  },
  {
   "cell_type": "code",
   "execution_count": null,
   "metadata": {},
   "outputs": [],
   "source": []
  }
 ],
 "metadata": {
  "kernelspec": {
   "display_name": "Python 3",
   "language": "python",
   "name": "python3"
  },
  "language_info": {
   "codemirror_mode": {
    "name": "ipython",
    "version": 3
   },
   "file_extension": ".py",
   "mimetype": "text/x-python",
   "name": "python",
   "nbconvert_exporter": "python",
   "pygments_lexer": "ipython3",
   "version": "3.6.5"
  }
 },
 "nbformat": 4,
 "nbformat_minor": 2
}
